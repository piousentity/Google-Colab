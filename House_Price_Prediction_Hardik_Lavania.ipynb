{
  "nbformat": 4,
  "nbformat_minor": 0,
  "metadata": {
    "colab": {
      "provenance": [],
      "toc_visible": true,
      "include_colab_link": true
    },
    "kernelspec": {
      "name": "python3",
      "display_name": "Python 3"
    },
    "language_info": {
      "name": "python"
    }
  },
  "cells": [
    {
      "cell_type": "markdown",
      "metadata": {
        "id": "view-in-github",
        "colab_type": "text"
      },
      "source": [
        "<a href=\"https://colab.research.google.com/github/piousentity/Google-Colab/blob/main/House_Price_Prediction_Hardik_Lavania.ipynb\" target=\"_parent\"><img src=\"https://colab.research.google.com/assets/colab-badge.svg\" alt=\"Open In Colab\"/></a>"
      ]
    },
    {
      "cell_type": "code",
      "execution_count": null,
      "metadata": {
        "colab": {
          "base_uri": "https://localhost:8080/"
        },
        "id": "FAJ0KVVJfG7E",
        "outputId": "d66137f6-ae8b-4c5a-bed7-300044fe3ad2"
      },
      "outputs": [
        {
          "output_type": "stream",
          "name": "stdout",
          "text": [
            "Test R2 value :0.027711576275045946\n",
            "\n",
            "Mean Squared error value :991584790444.7332\n",
            "\n"
          ]
        }
      ],
      "source": [
        "import numpy as np\n",
        "import pandas as pd\n",
        "from sklearn.linear_model import LinearRegression\n",
        "from sklearn.model_selection import train_test_split\n",
        "from sklearn.metrics import mean_squared_error,r2_score\n",
        "\n",
        "df=pd.read_csv('house price.csv')\n",
        "df.head()\n",
        "\n",
        "features=['bedrooms','bathrooms','sqft_living','sqft_lot','floors','sqft_above','sqft_basement']\n",
        "target='price'\n",
        "\n",
        "X=df[features]\n",
        "y=df[target]\n",
        "\n",
        "# Split the data into training set (80%) and test set (20%)\n",
        "X_train, X_test, y_train, y_test = train_test_split(X, y, test_size=0.2, random_state=42)\n",
        "\n",
        "model=LinearRegression()\n",
        "model.fit(X_train,y_train)\n",
        "\n",
        "y_pred=model.predict(X_test)\n",
        "\n",
        "score=r2_score(y_test,y_pred)\n",
        "print(f\"Test R2 value :{score}\\n\")\n",
        "\n",
        "mse=mean_squared_error(y_pred,y_test)\n",
        "print(f\"Mean Squared error value :{mse}\\n\")\n",
        "\n",
        "# this above code was by splitting into train and test data set\n",
        "# the below code is by splitting into train , validation and test data set\n",
        "\n"
      ]
    },
    {
      "cell_type": "code",
      "source": [
        "import numpy as np\n",
        "import pandas as pd\n",
        "from sklearn.linear_model import LinearRegression\n",
        "from sklearn.model_selection import train_test_split\n",
        "from sklearn.metrics import mean_squared_error\n",
        "\n",
        "\n",
        "df=pd.read_csv('house price.csv')\n",
        "df.head()\n",
        "\n",
        "features=['bedrooms','bathrooms','sqft_living','sqft_lot','floors','sqft_above','sqft_basement']\n",
        "target='price'\n",
        "\n",
        "X=df[features]\n",
        "y=df[target]\n",
        "\n",
        "# Split the data into training+validation set (80%) and test set (20%)\n",
        "X_train_val, X_test, y_train_val, y_test = train_test_split(X, y, test_size=0.2, random_state=42)\n",
        "\n",
        "# Split the training+validation set into training set (75%) and validation set (25%)\n",
        "X_train, X_val, y_train, y_val = train_test_split(X_train_val, y_train_val, test_size=0.25, random_state=42)\n",
        "\n",
        "model=LinearRegression()\n",
        "model.fit(X_train,y_train)\n",
        "\n",
        "# Evaluate the model on the validation set\n",
        "y_val_pred = model.predict(X_val)\n",
        "val_mse = mean_squared_error(y_val, y_val_pred)\n",
        "val_r2 = r2_score(y_val, y_val_pred)\n",
        "print(f\" Validation Mean Squared Error: {val_mse}, Validation R-squared Score: {val_r2}\")\n",
        "\n",
        "# Final evaluation on the test set\n",
        "y_test_pred = model.predict(X_test)\n",
        "test_mse = mean_squared_error(y_test, y_test_pred)\n",
        "test_r2 = r2_score(y_test, y_test_pred)\n",
        "print(f\" Test Mean Squared Error: {test_mse}, Test R-squared Score: {test_r2}\\n\")\n"
      ],
      "metadata": {
        "colab": {
          "base_uri": "https://localhost:8080/"
        },
        "id": "W9WzU7XlLhyU",
        "outputId": "8db3f984-195c-4020-9d50-10cc2dba9b89"
      },
      "execution_count": null,
      "outputs": [
        {
          "output_type": "stream",
          "name": "stdout",
          "text": [
            " Validation Mean Squared Error: 69193640733.856, Validation R-squared Score: 0.5306976731726415\n",
            " Test Mean Squared Error: 991289973302.8947, Test R-squared Score: 0.02800065623763448\n",
            "\n"
          ]
        }
      ]
    },
    {
      "cell_type": "code",
      "source": [
        "#Since the test score of (train , validate, test) method > test score of(train, test) method\n",
        "#Hence we can conclude that adding the use of validation set , improved the test score"
      ],
      "metadata": {
        "id": "HRSpp3_3ea4Q"
      },
      "execution_count": null,
      "outputs": []
    }
  ]
}